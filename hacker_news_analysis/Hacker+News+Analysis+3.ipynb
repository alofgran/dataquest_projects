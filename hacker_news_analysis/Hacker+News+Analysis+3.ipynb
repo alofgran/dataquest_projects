{
 "cells": [
  {
   "cell_type": "markdown",
   "metadata": {
    "collapsed": true
   },
   "source": [
    "# __Hacker News Analysis__\n",
    "\n",
    "In this project, I'll be evaluating a dataset from the website Hacker News.  The site functions somewhat like Reddit, in that individuals may post questions, projects, products, or other interesting information.  Other users may then comment on the content, and up/down vote eachothers' comments.\n",
    "\n",
    "I'm interested in the following questions:\n",
    "* Do Ask HN or Show HN receive more comments on average?\n",
    "* Do posts created at a certain time receive more comments on average?"
   ]
  },
  {
   "cell_type": "code",
   "execution_count": 1,
   "metadata": {
    "collapsed": false
   },
   "outputs": [
    {
     "name": "stdout",
     "output_type": "stream",
     "text": [
      "[['id', 'title', 'url', 'num_points', 'num_comments', 'author', 'created_at'], ['12224879', 'Interactive Dynamic Video', 'http://www.interactivedynamicvideo.com/', '386', '52', 'ne0phyte', '8/4/2016 11:52'], ['10975351', 'How to Use Open Source and Shut the Fuck Up at the Same Time', 'http://hueniverse.com/2016/01/26/how-to-use-open-source-and-shut-the-fuck-up-at-the-same-time/', '39', '10', 'josep2', '1/26/2016 19:30'], ['11964716', \"Florida DJs May Face Felony for April Fools' Water Joke\", 'http://www.thewire.com/entertainment/2013/04/florida-djs-april-fools-water-joke/63798/', '2', '1', 'vezycash', '6/23/2016 22:20'], ['11919867', 'Technology ventures: From Idea to Enterprise', 'https://www.amazon.com/Technology-Ventures-Enterprise-Thomas-Byers/dp/0073523429', '3', '1', 'hswarna', '6/17/2016 0:01']]\n"
     ]
    }
   ],
   "source": [
    "#Import needed libraries\n",
    "from csv import reader\n",
    "\n",
    "#Import the csv file containing our data\n",
    "opened_file = open('hacker_news.csv')\n",
    "read_file = reader(opened_file)\n",
    "hn = list(read_file)\n",
    "\n",
    "#Print first five lines of hn\n",
    "print(hn[:5])"
   ]
  },
  {
   "cell_type": "code",
   "execution_count": 2,
   "metadata": {
    "collapsed": false
   },
   "outputs": [
    {
     "name": "stdout",
     "output_type": "stream",
     "text": [
      "[['id', 'title', 'url', 'num_points', 'num_comments', 'author', 'created_at']] ,\n",
      "\n",
      "[['12224879', 'Interactive Dynamic Video', 'http://www.interactivedynamicvideo.com/', '386', '52', 'ne0phyte', '8/4/2016 11:52'], ['10975351', 'How to Use Open Source and Shut the Fuck Up at the Same Time', 'http://hueniverse.com/2016/01/26/how-to-use-open-source-and-shut-the-fuck-up-at-the-same-time/', '39', '10', 'josep2', '1/26/2016 19:30'], ['11964716', \"Florida DJs May Face Felony for April Fools' Water Joke\", 'http://www.thewire.com/entertainment/2013/04/florida-djs-april-fools-water-joke/63798/', '2', '1', 'vezycash', '6/23/2016 22:20'], ['11919867', 'Technology ventures: From Idea to Enterprise', 'https://www.amazon.com/Technology-Ventures-Enterprise-Thomas-Byers/dp/0073523429', '3', '1', 'hswarna', '6/17/2016 0:01'], ['10301696', 'Note by Note: The Making of Steinway L1037 (2007)', 'http://www.nytimes.com/2007/11/07/movies/07stein.html?_r=0', '8', '2', 'walterbell', '9/30/2015 4:12']]\n"
     ]
    }
   ],
   "source": [
    "#Remove the first row (column headers) from the list and save it in a new list\n",
    "headers = hn[:1]\n",
    "hn = hn[1:]\n",
    "\n",
    "#Verify that I've split the headers from the dataset\n",
    "print(headers, ',\\n')\n",
    "print(hn[:5])"
   ]
  },
  {
   "cell_type": "code",
   "execution_count": 3,
   "metadata": {
    "collapsed": false
   },
   "outputs": [
    {
     "name": "stdout",
     "output_type": "stream",
     "text": [
      "There are 1744 ask-posts\n",
      "There are 1162 show-posts\n",
      "There are 17194 other-posts\n"
     ]
    }
   ],
   "source": [
    "#Separate out posts beginning with 'Ask HN' and 'Show HN' 9with case variations)\n",
    "ask_posts = []\n",
    "show_posts = []\n",
    "other_posts = []\n",
    "\n",
    "for row in hn:\n",
    "    title = str(row[1])\n",
    "    if title.lower().startswith('ask hn'):\n",
    "        ask_posts.append(row)\n",
    "    elif title.lower().startswith('show hn'):\n",
    "        show_posts.append(row)\n",
    "    else:\n",
    "        other_posts.append(row)\n",
    "        \n",
    "print(\"There are {} ask-posts\".format(len(ask_posts)))\n",
    "print(\"There are {} show-posts\".format(len(show_posts)))\n",
    "print(\"There are {} other-posts\".format(len(other_posts)))"
   ]
  },
  {
   "cell_type": "code",
   "execution_count": 4,
   "metadata": {
    "collapsed": false
   },
   "outputs": [
    {
     "name": "stdout",
     "output_type": "stream",
     "text": [
      "Average number of comments per ask post:  14.038417431192661\n",
      "Average number of comments per show post:  10.31669535283993\n"
     ]
    }
   ],
   "source": [
    "#Determine if ask posts or show posts receive more comments on average\n",
    "#Determine average number of comments per ask post\n",
    "total_ask_comments = 0\n",
    "for post in ask_posts:\n",
    "    num_ask_comments = post[4]\n",
    "    num_ask_comments = int(num_ask_comments)\n",
    "    total_ask_comments += num_ask_comments\n",
    "    \n",
    "avg_ask_comments = total_ask_comments/len(ask_posts)\n",
    "print(\"Average number of comments per ask post: \", avg_ask_comments)\n",
    "\n",
    "#Determine average number of comments per show post\n",
    "total_show_comments = 0\n",
    "for post in show_posts:\n",
    "    num_show_comments = int(post[4])\n",
    "    total_show_comments += num_show_comments\n",
    "    \n",
    "avg_show_comments = total_show_comments/len(show_posts)\n",
    "print(\"Average number of comments per show post: \", avg_show_comments)"
   ]
  },
  {
   "cell_type": "markdown",
   "metadata": {},
   "source": [
    "As we can see in the previous cell, on average, ask posts receive roughly 4 more comments than show posts!\n",
    "\n",
    "Because ask posts are more likely to receive comments, we'll focus the rest of our analysis on ask posts only.\n",
    "\n",
    "Next, we'll determine if ask posts created at a certain time are more likely to attract comments."
   ]
  },
  {
   "cell_type": "code",
   "execution_count": 5,
   "metadata": {
    "collapsed": false
   },
   "outputs": [
    {
     "data": {
      "text/plain": [
       "({'00': 447,\n",
       "  '01': 683,\n",
       "  '02': 1381,\n",
       "  '03': 421,\n",
       "  '04': 337,\n",
       "  '05': 464,\n",
       "  '06': 397,\n",
       "  '07': 267,\n",
       "  '08': 492,\n",
       "  '09': 251,\n",
       "  '10': 793,\n",
       "  '11': 641,\n",
       "  '12': 687,\n",
       "  '13': 1253,\n",
       "  '14': 1416,\n",
       "  '15': 4477,\n",
       "  '16': 1814,\n",
       "  '17': 1146,\n",
       "  '18': 1439,\n",
       "  '19': 1188,\n",
       "  '20': 1722,\n",
       "  '21': 1745,\n",
       "  '22': 479,\n",
       "  '23': 543},\n",
       " {'00': 55,\n",
       "  '01': 60,\n",
       "  '02': 58,\n",
       "  '03': 54,\n",
       "  '04': 47,\n",
       "  '05': 46,\n",
       "  '06': 44,\n",
       "  '07': 34,\n",
       "  '08': 48,\n",
       "  '09': 45,\n",
       "  '10': 59,\n",
       "  '11': 58,\n",
       "  '12': 73,\n",
       "  '13': 85,\n",
       "  '14': 107,\n",
       "  '15': 116,\n",
       "  '16': 108,\n",
       "  '17': 100,\n",
       "  '18': 109,\n",
       "  '19': 110,\n",
       "  '20': 80,\n",
       "  '21': 109,\n",
       "  '22': 71,\n",
       "  '23': 68})"
      ]
     },
     "execution_count": 5,
     "metadata": {},
     "output_type": "execute_result"
    }
   ],
   "source": [
    "import datetime as dt\n",
    "result_list = []\n",
    "\n",
    "for post in ask_posts:\n",
    "    created_at = post[6]\n",
    "    num_ask_comments = int(post[4])\n",
    "    result_list.append([created_at, num_ask_comments])\n",
    "counts_by_hour = {}\n",
    "comments_by_hour = {}\n",
    "\n",
    "for row in result_list:\n",
    "    hour = row[0]\n",
    "    comment = row[1]\n",
    "    time = dt.datetime.strptime(hour, '%m/%d/%Y %H:%M').strftime(\"%H\")\n",
    "    if time not in counts_by_hour:\n",
    "        counts_by_hour[time] = 1\n",
    "        comments_by_hour[time] = comment\n",
    "    else:\n",
    "        counts_by_hour[time] += 1\n",
    "        comments_by_hour[time] += comment\n",
    "\n",
    "comments_by_hour, counts_by_hour"
   ]
  },
  {
   "cell_type": "markdown",
   "metadata": {},
   "source": [
    "I'll now use the dictionaries created in the previous cell to calculate the average number of comments for posts created during each hour of the day."
   ]
  },
  {
   "cell_type": "code",
   "execution_count": 6,
   "metadata": {
    "collapsed": false
   },
   "outputs": [
    {
     "data": {
      "text/plain": [
       "[['10', 13.440677966101696],\n",
       " ['19', 10.8],\n",
       " ['14', 13.233644859813085],\n",
       " ['13', 14.741176470588234],\n",
       " ['17', 11.46],\n",
       " ['04', 7.170212765957447],\n",
       " ['03', 7.796296296296297],\n",
       " ['15', 38.5948275862069],\n",
       " ['00', 8.127272727272727],\n",
       " ['20', 21.525],\n",
       " ['11', 11.051724137931034],\n",
       " ['18', 13.20183486238532],\n",
       " ['02', 23.810344827586206],\n",
       " ['06', 9.022727272727273],\n",
       " ['07', 7.852941176470588],\n",
       " ['21', 16.009174311926607],\n",
       " ['09', 5.5777777777777775],\n",
       " ['22', 6.746478873239437],\n",
       " ['12', 9.41095890410959],\n",
       " ['16', 16.796296296296298],\n",
       " ['01', 11.383333333333333],\n",
       " ['23', 7.985294117647059],\n",
       " ['05', 10.08695652173913],\n",
       " ['08', 10.25]]"
      ]
     },
     "execution_count": 6,
     "metadata": {},
     "output_type": "execute_result"
    }
   ],
   "source": [
    "#Initialize a new list for the results of the calculation\n",
    "avg_by_hour = []\n",
    "\n",
    "#Calculate\n",
    "for key in comments_by_hour:\n",
    "    avg_by_hour.append([key, comments_by_hour[key]/counts_by_hour[key]]) \n",
    "\n",
    "avg_by_hour"
   ]
  },
  {
   "cell_type": "code",
   "execution_count": 15,
   "metadata": {
    "collapsed": false
   },
   "outputs": [
    {
     "name": "stdout",
     "output_type": "stream",
     "text": [
      "\n",
      " Top 5 Hours for Ask Posts Comments\n",
      "\n",
      "15 : 38.59 average comments per post\n",
      "\n",
      "02 : 23.81 average comments per post\n",
      "\n",
      "20 : 21.52 average comments per post\n",
      "\n",
      "16 : 16.80 average comments per post\n",
      "\n",
      "21 : 16.01 average comments per post\n"
     ]
    }
   ],
   "source": [
    "#Swap the two rows in the avg_by_hour list and assign it to the new list (swap_avg_by_hour)\n",
    "swap_avg_by_hour = []\n",
    "\n",
    "for row in avg_by_hour:\n",
    "    swap_avg_by_hour.append([row[1], row[0]])\n",
    "# print(swap_avg_by_hour)\n",
    "\n",
    "#Sort the new list (swap_avg_by_hour) in descending order\n",
    "sorted_swap = sorted(swap_avg_by_hour, reverse=True)\n",
    "# sorted_swap\n",
    "print('\\n', \"Top 5 Hours for Ask Posts Comments\")\n",
    "\n",
    "for row in sorted_swap[:5]:\n",
    "    average = float(row[0])\n",
    "    hour = row[1]\n",
    "    print('\\n' \"{} : {:.2f} average comments per post\".format(hour, average))"
   ]
  },
  {
   "cell_type": "markdown",
   "metadata": {},
   "source": [
    "# __Results__\n",
    "As we can see in the previous cell, 3pm is clearly the time in which ask posts receive the most comments."
   ]
  },
  {
   "cell_type": "markdown",
   "metadata": {},
   "source": [
    "# __Further Study__\n",
    "\n",
    "* Determine if show or ask posts receive more points on average.\n",
    "* Determine if posts created at a certain time are more likely to receive more points.\n",
    "* Compare your results to the average number of comments and points other posts receive.\n",
    "* Use Dataquest's data science project style guide to format your project.\n"
   ]
  },
  {
   "cell_type": "code",
   "execution_count": null,
   "metadata": {
    "collapsed": true
   },
   "outputs": [],
   "source": []
  }
 ],
 "metadata": {
  "kernelspec": {
   "display_name": "Python 3",
   "language": "python",
   "name": "python3"
  },
  "language_info": {
   "codemirror_mode": {
    "name": "ipython",
    "version": 3
   },
   "file_extension": ".py",
   "mimetype": "text/x-python",
   "name": "python",
   "nbconvert_exporter": "python",
   "pygments_lexer": "ipython3",
   "version": "3.4.3"
  }
 },
 "nbformat": 4,
 "nbformat_minor": 2
}
