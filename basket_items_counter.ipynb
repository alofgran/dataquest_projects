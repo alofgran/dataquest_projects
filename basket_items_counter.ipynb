{
 "cells": [
  {
   "cell_type": "code",
   "execution_count": 1,
   "metadata": {},
   "outputs": [
    {
     "name": "stdout",
     "output_type": "stream",
     "text": [
      "23\n"
     ]
    }
   ],
   "source": [
    "\"\"\"\n",
    "You would like to count the number of fruits in your basket. \n",
    "In order to do this, you have the following dictionary and list of\n",
    "fruits.  Use the dictionary and list to count the total number\n",
    "of fruits, but you do not want to count the other items in your basket.\n",
    "\"\"\"\n",
    "\n",
    "result = 0\n",
    "basket_items = {'apples': 4, 'oranges': 19, 'kites': 3, 'sandwiches': 8}\n",
    "fruits = ['apples', 'oranges', 'pears', 'peaches', 'grapes', 'bananas']\n",
    "\n",
    "#Iterate through the dictionary\n",
    "for fruit in basket_items:\n",
    "    if fruit in fruits:\n",
    "        result = result + basket_items.get(fruit)\n",
    "#if the key is in the list of fruits, add the value (number of fruits) to result\n",
    "\n",
    "print(result)"
   ]
  },
  {
   "cell_type": "code",
   "execution_count": 2,
   "metadata": {},
   "outputs": [
    {
     "name": "stdout",
     "output_type": "stream",
     "text": [
      "23 11\n"
     ]
    }
   ],
   "source": [
    "\"\"\"\n",
    "Here, not only do  you want to keep track of the fruits in  your basket, but also\n",
    "list the number of non-fruit items in your basket.\n",
    "\n",
    "\"\"\"\n",
    "\n",
    "fruit_count, not_fruit_count = 0, 0\n",
    "basket_items = {'apples': 4, 'oranges': 19, 'kites': 3, 'sandwiches': 8}\n",
    "fruits = ['apples', 'oranges', 'pears', 'peaches', 'grapes', 'bananas']\n",
    "\n",
    "#Iterate through the dictionary\n",
    "for fruit in basket_items:\n",
    "\n",
    "#if the key is in the list of fruits, add to fruit_count.\n",
    "    if fruit in fruits:\n",
    "        fruit_count = fruit_count + basket_items.get(fruit)\n",
    "#if the key is not in the list, then add to the not_fruit_count\n",
    "    else:\n",
    "        not_fruit_count = not_fruit_count + basket_items.get(fruit)\n",
    "\n",
    "print(fruit_count, not_fruit_count)"
   ]
  },
  {
   "cell_type": "code",
   "execution_count": null,
   "metadata": {},
   "outputs": [],
   "source": []
  }
 ],
 "metadata": {
  "kernelspec": {
   "display_name": "Python 3",
   "language": "python",
   "name": "python3"
  },
  "language_info": {
   "codemirror_mode": {
    "name": "ipython",
    "version": 3
   },
   "file_extension": ".py",
   "mimetype": "text/x-python",
   "name": "python",
   "nbconvert_exporter": "python",
   "pygments_lexer": "ipython3",
   "version": "3.6.4"
  }
 },
 "nbformat": 4,
 "nbformat_minor": 2
}
