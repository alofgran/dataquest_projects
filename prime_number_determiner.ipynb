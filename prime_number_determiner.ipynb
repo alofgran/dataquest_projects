{
 "cells": [
  {
   "cell_type": "code",
   "execution_count": 1,
   "metadata": {},
   "outputs": [
    {
     "name": "stdout",
     "output_type": "stream",
     "text": [
      "26 is not a prime number, because 2 is a factor of 26.\n",
      "39 is not a prime number, because 3 is a factor of 39.\n",
      "51 is not a prime number, because 3 is a factor of 51.\n",
      "53 is a prime number.\n",
      "57 is not a prime number, because 3 is a factor of 57.\n",
      "79 is a prime number.\n",
      "85 is not a prime number, because 5 is a factor of 85.\n"
     ]
    }
   ],
   "source": [
    "\"\"\"\n",
    "This code reads in the list of numbers ('check_prime'), and prints out which of the numbers are prime, and which are not\n",
    "(and for those that are not prime, what one of their factors is).\n",
    "\"\"\"\n",
    "\n",
    "## Your code should check if each number in the list is a prime number\n",
    "check_prime = [26, 39, 51, 53, 57, 79, 85]\n",
    "\n",
    "## write your code here\n",
    "## HINT: You can use the modulo operator to find a factor\n",
    "for number in check_prime:\n",
    "    for check in range(2, int(number**(1/2)+1)):\n",
    "        if number % check == 0:\n",
    "            print(\"{} is not a prime number, because {} is a factor of {}.\".format(number, check, number))\n",
    "            break\n",
    "    if number % check != 0:\n",
    "        print(\"{} is a prime number.\".format(number))\n",
    "            "
   ]
  },
  {
   "cell_type": "code",
   "execution_count": null,
   "metadata": {},
   "outputs": [],
   "source": []
  }
 ],
 "metadata": {
  "kernelspec": {
   "display_name": "Python 3",
   "language": "python",
   "name": "python3"
  },
  "language_info": {
   "codemirror_mode": {
    "name": "ipython",
    "version": 3
   },
   "file_extension": ".py",
   "mimetype": "text/x-python",
   "name": "python",
   "nbconvert_exporter": "python",
   "pygments_lexer": "ipython3",
   "version": "3.6.4"
  }
 },
 "nbformat": 4,
 "nbformat_minor": 2
}
